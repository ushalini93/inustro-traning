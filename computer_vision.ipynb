{
  "nbformat": 4,
  "nbformat_minor": 0,
  "metadata": {
    "colab": {
      "provenance": []
    },
    "kernelspec": {
      "name": "python3",
      "display_name": "Python 3"
    },
    "language_info": {
      "name": "python"
    }
  },
  "cells": [
    {
      "cell_type": "code",
      "execution_count": 1,
      "metadata": {
        "colab": {
          "base_uri": "https://localhost:8080/"
        },
        "id": "ku4a6Jrsn38b",
        "outputId": "1fdceb4e-27ee-4a51-aa86-5cb72153fcdb"
      },
      "outputs": [
        {
          "output_type": "stream",
          "name": "stdout",
          "text": [
            "Requirement already satisfied: opencv-python in /usr/local/lib/python3.10/dist-packages (4.10.0.84)\n",
            "Requirement already satisfied: numpy>=1.21.2 in /usr/local/lib/python3.10/dist-packages (from opencv-python) (1.26.4)\n"
          ]
        }
      ],
      "source": [
        "pip install opencv-python"
      ]
    },
    {
      "cell_type": "code",
      "source": [
        "import cv2\n",
        "image = cv2.imread'(pomerian-1.webp')\n",
        "gray_image = cv2.cvtcolor(image, cv2.COLOR_BGR2GRAY)\n",
        "cv2.imshow('Grayscale Image', gray_image)\n",
        "cv2.imwrite('gray_image.jpg', gray_image)\n",
        "cv2.waitKey(0)\n",
        "cv2.destroyAllWindows()\n",
        ""
      ],
      "metadata": {
        "id": "T_AsWlyDorNy"
      },
      "execution_count": null,
      "outputs": []
    }
  ]
}